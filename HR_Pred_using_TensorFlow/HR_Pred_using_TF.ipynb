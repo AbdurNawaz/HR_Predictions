{
 "cells": [
  {
   "cell_type": "code",
   "execution_count": 1,
   "metadata": {},
   "outputs": [],
   "source": [
    "import pandas as pd\n",
    "import tensorflow as tf\n",
    "import numpy as np\n",
    "from sklearn.model_selection import train_test_split"
   ]
  },
  {
   "cell_type": "code",
   "execution_count": 2,
   "metadata": {},
   "outputs": [
    {
     "data": {
      "text/html": [
       "<div>\n",
       "<style scoped>\n",
       "    .dataframe tbody tr th:only-of-type {\n",
       "        vertical-align: middle;\n",
       "    }\n",
       "\n",
       "    .dataframe tbody tr th {\n",
       "        vertical-align: top;\n",
       "    }\n",
       "\n",
       "    .dataframe thead th {\n",
       "        text-align: right;\n",
       "    }\n",
       "</style>\n",
       "<table border=\"1\" class=\"dataframe\">\n",
       "  <thead>\n",
       "    <tr style=\"text-align: right;\">\n",
       "      <th></th>\n",
       "      <th>satisfaction_level</th>\n",
       "      <th>last_evaluation</th>\n",
       "      <th>number_project</th>\n",
       "      <th>average_montly_hours</th>\n",
       "      <th>time_spend_company</th>\n",
       "      <th>Work_accident</th>\n",
       "      <th>promotion_last_5years</th>\n",
       "    </tr>\n",
       "    <tr>\n",
       "      <th>left</th>\n",
       "      <th></th>\n",
       "      <th></th>\n",
       "      <th></th>\n",
       "      <th></th>\n",
       "      <th></th>\n",
       "      <th></th>\n",
       "      <th></th>\n",
       "    </tr>\n",
       "  </thead>\n",
       "  <tbody>\n",
       "    <tr>\n",
       "      <th>0</th>\n",
       "      <td>0.666810</td>\n",
       "      <td>0.715473</td>\n",
       "      <td>3.786664</td>\n",
       "      <td>199.060203</td>\n",
       "      <td>3.380032</td>\n",
       "      <td>0.175009</td>\n",
       "      <td>0.026251</td>\n",
       "    </tr>\n",
       "    <tr>\n",
       "      <th>1</th>\n",
       "      <td>0.440098</td>\n",
       "      <td>0.718113</td>\n",
       "      <td>3.855503</td>\n",
       "      <td>207.419210</td>\n",
       "      <td>3.876505</td>\n",
       "      <td>0.047326</td>\n",
       "      <td>0.005321</td>\n",
       "    </tr>\n",
       "  </tbody>\n",
       "</table>\n",
       "</div>"
      ],
      "text/plain": [
       "      satisfaction_level  last_evaluation  number_project  \\\n",
       "left                                                        \n",
       "0               0.666810         0.715473        3.786664   \n",
       "1               0.440098         0.718113        3.855503   \n",
       "\n",
       "      average_montly_hours  time_spend_company  Work_accident  \\\n",
       "left                                                            \n",
       "0               199.060203            3.380032       0.175009   \n",
       "1               207.419210            3.876505       0.047326   \n",
       "\n",
       "      promotion_last_5years  \n",
       "left                         \n",
       "0                  0.026251  \n",
       "1                  0.005321  "
      ]
     },
     "execution_count": 2,
     "metadata": {},
     "output_type": "execute_result"
    }
   ],
   "source": [
    "df = pd.read_csv(\"HR_comma_sep.csv\")\n",
    "df.groupby(\"left\").mean()"
   ]
  },
  {
   "cell_type": "code",
   "execution_count": 3,
   "metadata": {},
   "outputs": [],
   "source": [
    "df1 = df[[\"satisfaction_level\", \"average_montly_hours\", \"Work_accident\", \"promotion_last_5years\"]]\n",
    "Y = df.left\n",
    "\n",
    "y = []\n",
    "for i in Y:\n",
    "    if i == 1:\n",
    "        y.append(0)\n",
    "    else:\n",
    "        y.append(1)\n",
    "\n",
    "\n",
    "y = pd.Series(y)\n",
    "Yr = pd.concat([Y, y], axis = 1)"
   ]
  },
  {
   "cell_type": "code",
   "execution_count": 4,
   "metadata": {},
   "outputs": [],
   "source": [
    "X_train, X_test, Y_train, Y_test = train_test_split(df1.values, Yr.values, test_size = 0.2)"
   ]
  },
  {
   "cell_type": "code",
   "execution_count": 42,
   "metadata": {
    "scrolled": true
   },
   "outputs": [],
   "source": [
    "inputs = tf.placeholder(tf.float32, [None, 4])\n",
    "targets = tf.placeholder(tf.float32, [None, 2])\n",
    "\n",
    "weights_1 = tf.get_variable(\"weights_1\", [4,3])\n",
    "biases_1 = tf.get_variable(\"biases_1\", [3])\n",
    "\n",
    "outputs_1 = tf.nn.relu(tf.matmul(inputs, weights_1) + biases_1)\n",
    "\n",
    "weights_2 = tf.get_variable(\"weights_2\", [3, 2])\n",
    "biases_2 = tf.get_variable(\"biases_2\", [2])\n",
    "\n",
    "outputs = tf.matmul(outputs_1, weights_2 ) + biases_2\n",
    "\n",
    "loss = tf.nn.softmax_cross_entropy_with_logits_v2(logits = outputs, labels = targets)\n",
    "\n",
    "mean_loss = tf.reduce_mean(loss)\n",
    "\n",
    "optimize = tf.train.AdamOptimizer().minimize(mean_loss)\n",
    "\n",
    "out_equals_targets = tf.equal(tf.argmax(outputs, 1), tf.argmax(targets, 1))\n",
    "\n",
    "accuracy = tf.reduce_mean(tf.cast(out_equals_targets, tf.float32))"
   ]
  },
  {
   "cell_type": "code",
   "execution_count": 43,
   "metadata": {},
   "outputs": [],
   "source": [
    "sess = tf.InteractiveSession()"
   ]
  },
  {
   "cell_type": "code",
   "execution_count": 44,
   "metadata": {},
   "outputs": [],
   "source": [
    "initializer  = tf.global_variables_initializer()\n",
    "sess.run(initializer)"
   ]
  },
  {
   "cell_type": "code",
   "execution_count": 45,
   "metadata": {},
   "outputs": [
    {
     "name": "stdout",
     "output_type": "stream",
     "text": [
      "Epoch 1. Mean loss: 0.660\n",
      "Epoch 2. Mean loss: 0.531\n",
      "Epoch 3. Mean loss: 0.488\n",
      "Epoch 4. Mean loss: 0.477\n",
      "Epoch 5. Mean loss: 0.473\n",
      "Epoch 6. Mean loss: 0.471\n",
      "Epoch 7. Mean loss: 0.470\n",
      "Epoch 8. Mean loss: 0.469\n",
      "Epoch 9. Mean loss: 0.468\n",
      "Epoch 10. Mean loss: 0.468\n",
      "Epoch 11. Mean loss: 0.468\n",
      "Epoch 12. Mean loss: 0.467\n",
      "Epoch 13. Mean loss: 0.467\n",
      "Epoch 14. Mean loss: 0.467\n",
      "Epoch 15. Mean loss: 0.466\n",
      "Epoch 16. Mean loss: 0.466\n",
      "Epoch 17. Mean loss: 0.466\n",
      "Epoch 18. Mean loss: 0.466\n",
      "Epoch 19. Mean loss: 0.466\n",
      "Epoch 20. Mean loss: 0.465\n",
      "End Of Training\n",
      "Test accuracy: 76.43%\n"
     ]
    }
   ],
   "source": [
    "N, D = X_train.shape\n",
    "batch_size = 1\n",
    "batches_number = N // batch_size\n",
    "max_epochs = 20\n",
    "\n",
    "\n",
    "# In[29]:\n",
    "\n",
    "\n",
    "for epoch_counter in range(max_epochs):\n",
    "    curr_epoch_loss = 0\n",
    "    \n",
    "    for batch_counter in range(batches_number):\n",
    "        \n",
    "        \n",
    "        input_batch = X_train[batch_counter*batch_size: (batch_counter + 1)*batch_size]\n",
    "        target_batch = Y_train[batch_counter*batch_size: (batch_counter + 1)*batch_size]\n",
    "        \n",
    "        _, batch_loss = sess.run([optimize, mean_loss],\n",
    "                                feed_dict = {inputs : input_batch, targets : target_batch})\n",
    "        \n",
    "        curr_epoch_loss += batch_loss\n",
    "        #print(\"Batch loss at batch number: %d is %.3f \" %(batch_counter, batch_loss))\n",
    "        \n",
    "    curr_epoch_loss /= batches_number\n",
    "    \n",
    "    \n",
    "    print('Epoch '+str(epoch_counter+1)+\n",
    "          '. Mean loss: '+'{0:.3f}'.format(curr_epoch_loss))\n",
    "\n",
    "print(\"End Of Training\")\n",
    "\n",
    "\n",
    "# In[30]:\n",
    "\n",
    "\n",
    "input_batch, target_batch = X_test, Y_test\n",
    "\n",
    "test_accuracy = sess.run([accuracy], \n",
    "    feed_dict={inputs: input_batch, targets: target_batch})\n",
    "\n",
    "test_accuracy_percent = test_accuracy[0] * 100.\n",
    "\n",
    "print('Test accuracy: '+'{0:.2f}'.format(test_accuracy_percent)+'%')\n",
    "\n",
    "\n",
    "# In[ ]:\n"
   ]
  }
 ],
 "metadata": {
  "kernelspec": {
   "display_name": "Python 3",
   "language": "python",
   "name": "python3"
  },
  "language_info": {
   "codemirror_mode": {
    "name": "ipython",
    "version": 3
   },
   "file_extension": ".py",
   "mimetype": "text/x-python",
   "name": "python",
   "nbconvert_exporter": "python",
   "pygments_lexer": "ipython3",
   "version": "3.7.1"
  }
 },
 "nbformat": 4,
 "nbformat_minor": 2
}
